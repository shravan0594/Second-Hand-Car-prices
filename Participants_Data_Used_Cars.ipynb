{
  "cells": [
    {
      "metadata": {
        "trusted": true
      },
      "cell_type": "code",
      "source": "import numpy as np\nimport pandas as pd",
      "execution_count": null,
      "outputs": []
    },
    {
      "metadata": {
        "trusted": true
      },
      "cell_type": "code",
      "source": "Train_data=pd.read_excel(\"Data_Train - Copy.xlsx\")",
      "execution_count": null,
      "outputs": []
    },
    {
      "metadata": {
        "trusted": true
      },
      "cell_type": "code",
      "source": "Train_data.shape",
      "execution_count": null,
      "outputs": []
    },
    {
      "metadata": {
        "trusted": true
      },
      "cell_type": "code",
      "source": "Train_data.describe()",
      "execution_count": null,
      "outputs": []
    },
    {
      "metadata": {
        "trusted": true
      },
      "cell_type": "code",
      "source": "Train_data",
      "execution_count": null,
      "outputs": []
    },
    {
      "metadata": {
        "trusted": true
      },
      "cell_type": "code",
      "source": "del Train_data['New_Price']",
      "execution_count": null,
      "outputs": []
    },
    {
      "metadata": {
        "trusted": true
      },
      "cell_type": "code",
      "source": "Train_data",
      "execution_count": null,
      "outputs": []
    },
    {
      "metadata": {
        "trusted": true
      },
      "cell_type": "code",
      "source": "from sklearn.tree import DecisionTreeRegressor",
      "execution_count": null,
      "outputs": []
    },
    {
      "metadata": {
        "trusted": true
      },
      "cell_type": "code",
      "source": "Train_data.head()",
      "execution_count": null,
      "outputs": []
    },
    {
      "metadata": {
        "trusted": true
      },
      "cell_type": "code",
      "source": "Train_data.columns",
      "execution_count": null,
      "outputs": []
    },
    {
      "metadata": {
        "trusted": true
      },
      "cell_type": "code",
      "source": "import matplotlib.pyplot as plt",
      "execution_count": null,
      "outputs": []
    },
    {
      "metadata": {
        "trusted": true
      },
      "cell_type": "code",
      "source": "%matplotlib inline",
      "execution_count": null,
      "outputs": []
    },
    {
      "metadata": {
        "trusted": true
      },
      "cell_type": "code",
      "source": "Train_data.hist('Price')",
      "execution_count": null,
      "outputs": []
    },
    {
      "metadata": {
        "trusted": true
      },
      "cell_type": "code",
      "source": "location=set(Train_data['Location'])",
      "execution_count": null,
      "outputs": []
    },
    {
      "metadata": {
        "trusted": true
      },
      "cell_type": "code",
      "source": "location",
      "execution_count": null,
      "outputs": []
    },
    {
      "metadata": {
        "trusted": true
      },
      "cell_type": "code",
      "source": "location_values={'Ahmedabad':1,\n 'Bangalore':2,\n 'Chennai':3,\n 'Coimbatore':4,\n 'Delhi':5,\n 'Hyderabad':6,\n 'Jaipur':7,\n 'Kochi':8,\n 'Kolkata':9,\n 'Mumbai':10,\n 'Pune':11}",
      "execution_count": null,
      "outputs": []
    },
    {
      "metadata": {
        "trusted": true
      },
      "cell_type": "code",
      "source": "location_values",
      "execution_count": null,
      "outputs": []
    },
    {
      "metadata": {
        "trusted": true
      },
      "cell_type": "code",
      "source": "Train_data['Location']=Train_data['Location'].map(location_values)",
      "execution_count": null,
      "outputs": []
    },
    {
      "metadata": {
        "trusted": true
      },
      "cell_type": "code",
      "source": "Train_data",
      "execution_count": null,
      "outputs": []
    },
    {
      "metadata": {
        "trusted": true
      },
      "cell_type": "code",
      "source": "Fuel_Type=set(Train_data['Fuel_Type'])",
      "execution_count": null,
      "outputs": []
    },
    {
      "metadata": {
        "trusted": true
      },
      "cell_type": "code",
      "source": "Fuel_Type",
      "execution_count": null,
      "outputs": []
    },
    {
      "metadata": {
        "trusted": true
      },
      "cell_type": "code",
      "source": "Fuel_Type_values={\n    'CNG':1, 'Diesel':2, 'Electric':3, 'LPG':4, 'Petrol':5\n    }",
      "execution_count": null,
      "outputs": []
    },
    {
      "metadata": {
        "trusted": true
      },
      "cell_type": "code",
      "source": "Fuel_Type_values",
      "execution_count": null,
      "outputs": []
    },
    {
      "metadata": {
        "trusted": true
      },
      "cell_type": "code",
      "source": "Train_data['Fuel_Type']=Train_data['Fuel_Type'].map(Fuel_Type_values)",
      "execution_count": null,
      "outputs": []
    },
    {
      "metadata": {
        "trusted": true
      },
      "cell_type": "code",
      "source": "Train_data.head()",
      "execution_count": null,
      "outputs": []
    },
    {
      "metadata": {
        "trusted": true
      },
      "cell_type": "code",
      "source": "Transmission_type=set(Train_data['Transmission'])",
      "execution_count": null,
      "outputs": []
    },
    {
      "metadata": {
        "trusted": true
      },
      "cell_type": "code",
      "source": "Transmission_type",
      "execution_count": null,
      "outputs": []
    },
    {
      "metadata": {
        "trusted": true
      },
      "cell_type": "code",
      "source": "Transmission_type_values={'Automatic':1, 'Manual':2}\n",
      "execution_count": null,
      "outputs": []
    },
    {
      "metadata": {
        "trusted": true
      },
      "cell_type": "code",
      "source": "Train_data['Transmission']=Train_data['Transmission'].map(Transmission_type_values)",
      "execution_count": null,
      "outputs": []
    },
    {
      "metadata": {
        "trusted": true
      },
      "cell_type": "code",
      "source": "Train_data.head()",
      "execution_count": null,
      "outputs": []
    },
    {
      "metadata": {
        "trusted": true
      },
      "cell_type": "code",
      "source": "Owner_Type=set(Train_data['Owner_Type'])",
      "execution_count": null,
      "outputs": []
    },
    {
      "metadata": {
        "trusted": true
      },
      "cell_type": "code",
      "source": "Owner_Type",
      "execution_count": null,
      "outputs": []
    },
    {
      "metadata": {
        "trusted": true
      },
      "cell_type": "code",
      "source": "Owner_Type_values={'First':1, 'Fourth & Above':4, 'Second':2, 'Third':3}",
      "execution_count": null,
      "outputs": []
    },
    {
      "metadata": {
        "trusted": true
      },
      "cell_type": "code",
      "source": "Train_data['Owner_Type']=Train_data['Owner_Type'].map(Owner_Type_values)",
      "execution_count": null,
      "outputs": []
    },
    {
      "metadata": {
        "trusted": true
      },
      "cell_type": "code",
      "source": "Train_data.head()",
      "execution_count": null,
      "outputs": []
    },
    {
      "metadata": {
        "trusted": true
      },
      "cell_type": "code",
      "source": "Mileage=set(Train_data['Power'])\nMileage",
      "execution_count": null,
      "outputs": []
    },
    {
      "metadata": {
        "trusted": true
      },
      "cell_type": "code",
      "source": "len(Mileage)",
      "execution_count": null,
      "outputs": []
    },
    {
      "metadata": {
        "trusted": true
      },
      "cell_type": "code",
      "source": "Train_data=Train_data.dropna(axis=0, how='any', thresh=None, subset=None, inplace=False)\n",
      "execution_count": null,
      "outputs": []
    },
    {
      "metadata": {
        "trusted": true
      },
      "cell_type": "code",
      "source": "Train_data.shape",
      "execution_count": null,
      "outputs": []
    },
    {
      "metadata": {
        "trusted": true
      },
      "cell_type": "code",
      "source": "X=Train_data.copy()",
      "execution_count": null,
      "outputs": []
    },
    {
      "metadata": {
        "trusted": true
      },
      "cell_type": "code",
      "source": "X.head()",
      "execution_count": null,
      "outputs": []
    },
    {
      "metadata": {
        "trusted": true
      },
      "cell_type": "code",
      "source": "del X['Price']",
      "execution_count": null,
      "outputs": []
    },
    {
      "metadata": {
        "trusted": true
      },
      "cell_type": "code",
      "source": "X.head()",
      "execution_count": null,
      "outputs": []
    },
    {
      "metadata": {
        "trusted": true
      },
      "cell_type": "code",
      "source": "Y=Train_data['Price']",
      "execution_count": null,
      "outputs": []
    },
    {
      "metadata": {
        "trusted": true
      },
      "cell_type": "code",
      "source": "#len(X)\nlen(Y)",
      "execution_count": null,
      "outputs": []
    },
    {
      "metadata": {
        "trusted": true
      },
      "cell_type": "code",
      "source": "first_model=DecisionTreeRegressor(max_depth=4)",
      "execution_count": null,
      "outputs": []
    },
    {
      "metadata": {
        "trusted": true
      },
      "cell_type": "code",
      "source": "del X['Name']",
      "execution_count": null,
      "outputs": []
    },
    {
      "metadata": {
        "trusted": true
      },
      "cell_type": "code",
      "source": "#Mileage_temp=Train_data['Mileage']",
      "execution_count": null,
      "outputs": []
    },
    {
      "metadata": {
        "trusted": true
      },
      "cell_type": "code",
      "source": "first_model.fit(X,Y)",
      "execution_count": null,
      "outputs": []
    },
    {
      "metadata": {
        "trusted": true
      },
      "cell_type": "code",
      "source": "import matplotlib.pyplot as plt\nfrom sklearn.model_selection import train_test_split\nfrom sklearn.model_selection import cross_val_score\nfrom sklearn.model_selection import GridSearchCV\nfrom sklearn.tree import export_graphviz\nfrom IPython.display import Image\nfrom sklearn.metrics import r2_score",
      "execution_count": null,
      "outputs": []
    },
    {
      "metadata": {
        "trusted": true
      },
      "cell_type": "code",
      "source": "export_graphviz(first_model,out_file='Regtree.dot',feature_names=X.columns)  ",
      "execution_count": null,
      "outputs": []
    },
    {
      "metadata": {
        "trusted": true
      },
      "cell_type": "code",
      "source": "! dot -Tpng Regtree.dot -o Regtree.png",
      "execution_count": null,
      "outputs": []
    },
    {
      "metadata": {
        "trusted": true
      },
      "cell_type": "code",
      "source": "Image(\"Regtree.png\")",
      "execution_count": null,
      "outputs": []
    },
    {
      "metadata": {
        "trusted": true
      },
      "cell_type": "code",
      "source": "first_model.score(X,Y)",
      "execution_count": null,
      "outputs": []
    },
    {
      "metadata": {
        "trusted": true
      },
      "cell_type": "code",
      "source": "X.shape",
      "execution_count": null,
      "outputs": []
    },
    {
      "metadata": {
        "trusted": true
      },
      "cell_type": "code",
      "source": "Y.shape",
      "execution_count": null,
      "outputs": []
    },
    {
      "metadata": {
        "trusted": true
      },
      "cell_type": "code",
      "source": "Test_data=pd.read_excel(\"Data_Test.xlsx\")",
      "execution_count": null,
      "outputs": []
    },
    {
      "metadata": {
        "trusted": true
      },
      "cell_type": "code",
      "source": "Test_data.describe()",
      "execution_count": null,
      "outputs": []
    },
    {
      "metadata": {
        "trusted": true
      },
      "cell_type": "code",
      "source": "Test_data.shape",
      "execution_count": null,
      "outputs": []
    },
    {
      "metadata": {
        "trusted": true
      },
      "cell_type": "code",
      "source": "Test_data.head()",
      "execution_count": null,
      "outputs": []
    },
    {
      "metadata": {
        "trusted": true
      },
      "cell_type": "code",
      "source": "del Test_data['Name']",
      "execution_count": null,
      "outputs": []
    },
    {
      "metadata": {
        "trusted": true
      },
      "cell_type": "code",
      "source": "Test_data['Location']=Test_data['Location'].map(location_values)",
      "execution_count": null,
      "outputs": []
    },
    {
      "metadata": {
        "trusted": true
      },
      "cell_type": "code",
      "source": "Test_data['Fuel_Type']=Test_data['Fuel_Type'].map(Fuel_Type_values)",
      "execution_count": null,
      "outputs": []
    },
    {
      "metadata": {
        "trusted": true
      },
      "cell_type": "code",
      "source": "Test_data['Transmission']=Test_data['Transmission'].map(Transmission_type_values)",
      "execution_count": null,
      "outputs": []
    },
    {
      "metadata": {
        "trusted": true
      },
      "cell_type": "code",
      "source": "Test_data.head()",
      "execution_count": null,
      "outputs": []
    },
    {
      "metadata": {
        "trusted": true
      },
      "cell_type": "code",
      "source": "Test_data['Owner_Type']=Test_data['Owner_Type'].map(Owner_Type_values)",
      "execution_count": null,
      "outputs": []
    },
    {
      "metadata": {
        "trusted": true
      },
      "cell_type": "code",
      "source": "Owner_Type_values",
      "execution_count": null,
      "outputs": []
    },
    {
      "metadata": {
        "trusted": true
      },
      "cell_type": "code",
      "source": "Test_data.head()",
      "execution_count": null,
      "outputs": []
    },
    {
      "metadata": {
        "trusted": true
      },
      "cell_type": "code",
      "source": "X_test=Test_data",
      "execution_count": null,
      "outputs": []
    },
    {
      "metadata": {
        "trusted": true
      },
      "cell_type": "code",
      "source": "del X_test['Price']",
      "execution_count": null,
      "outputs": []
    },
    {
      "metadata": {
        "trusted": true
      },
      "cell_type": "code",
      "source": "X_test['Mileage'].fillna((X_test['Mileage'].mean()), inplace=True)\nX_test['Engine'].fillna((X_test['Engine'].mean()), inplace=True)\nX_test['Power'].fillna((X_test['Power'].mean()), inplace=True)\nX_test['Seats'].fillna((X_test['Seats'].mean()), inplace=True)",
      "execution_count": null,
      "outputs": []
    },
    {
      "metadata": {
        "trusted": true
      },
      "cell_type": "code",
      "source": "X_test.shape",
      "execution_count": null,
      "outputs": []
    },
    {
      "metadata": {
        "trusted": true
      },
      "cell_type": "code",
      "source": "Y_pred_test=first_model.predict(X_test)",
      "execution_count": null,
      "outputs": []
    },
    {
      "metadata": {
        "trusted": true
      },
      "cell_type": "code",
      "source": "Y_pred_test",
      "execution_count": null,
      "outputs": []
    },
    {
      "metadata": {
        "trusted": true
      },
      "cell_type": "code",
      "source": "Test_data['Price']=Y_pred_test",
      "execution_count": null,
      "outputs": []
    },
    {
      "metadata": {
        "trusted": true
      },
      "cell_type": "code",
      "source": "Test_data.head()",
      "execution_count": null,
      "outputs": []
    },
    {
      "metadata": {
        "trusted": true
      },
      "cell_type": "code",
      "source": "test_model",
      "execution_count": null,
      "outputs": []
    },
    {
      "metadata": {
        "trusted": true
      },
      "cell_type": "code",
      "source": "X_test.shape",
      "execution_count": null,
      "outputs": []
    },
    {
      "metadata": {
        "trusted": true
      },
      "cell_type": "code",
      "source": "Y_pred_test.shape",
      "execution_count": null,
      "outputs": []
    },
    {
      "metadata": {
        "trusted": true
      },
      "cell_type": "code",
      "source": "Y_pred_test",
      "execution_count": null,
      "outputs": []
    },
    {
      "metadata": {
        "trusted": true
      },
      "cell_type": "code",
      "source": "first_model.fit(X,Y)",
      "execution_count": null,
      "outputs": []
    },
    {
      "metadata": {
        "trusted": true
      },
      "cell_type": "code",
      "source": "X_test.head()",
      "execution_count": null,
      "outputs": []
    },
    {
      "metadata": {
        "trusted": true
      },
      "cell_type": "code",
      "source": "del X_test['Price']",
      "execution_count": null,
      "outputs": []
    },
    {
      "metadata": {
        "trusted": true
      },
      "cell_type": "code",
      "source": "first_model.score(X_test,Y_pred_test)",
      "execution_count": null,
      "outputs": []
    },
    {
      "metadata": {
        "trusted": true
      },
      "cell_type": "code",
      "source": "for i in Y_pred_test:\n    print(i)",
      "execution_count": null,
      "outputs": []
    },
    {
      "metadata": {
        "trusted": true
      },
      "cell_type": "code",
      "source": "parameters = {'max_depth': [1,2,3,4,5,6,7,8,9,10]}",
      "execution_count": 268,
      "outputs": []
    },
    {
      "metadata": {
        "trusted": true
      },
      "cell_type": "code",
      "source": "parameters",
      "execution_count": 269,
      "outputs": [
        {
          "output_type": "execute_result",
          "execution_count": 269,
          "data": {
            "text/plain": "{'max_depth': [1, 2, 3, 4, 5, 6, 7, 8, 9, 10]}"
          },
          "metadata": {}
        }
      ]
    },
    {
      "metadata": {
        "trusted": true
      },
      "cell_type": "code",
      "source": "grid=GridSearchCV(first_model,parameters,cv=10,scoring='r2')",
      "execution_count": 270,
      "outputs": []
    },
    {
      "metadata": {
        "trusted": true
      },
      "cell_type": "code",
      "source": "grid.fit(X_test,Y_pred_test)",
      "execution_count": 271,
      "outputs": [
        {
          "output_type": "execute_result",
          "execution_count": 271,
          "data": {
            "text/plain": "GridSearchCV(cv=10, error_score='raise-deprecating',\n       estimator=DecisionTreeRegressor(criterion='mse', max_depth=4, max_features=None,\n           max_leaf_nodes=None, min_impurity_decrease=0.0,\n           min_impurity_split=None, min_samples_leaf=1,\n           min_samples_split=2, min_weight_fraction_leaf=0.0,\n           presort=False, random_state=None, splitter='best'),\n       fit_params=None, iid='warn', n_jobs=None,\n       param_grid={'max_depth': [1, 2, 3, 4, 5, 6, 7, 8, 9, 10]},\n       pre_dispatch='2*n_jobs', refit=True, return_train_score='warn',\n       scoring='r2', verbose=0)"
          },
          "metadata": {}
        }
      ]
    },
    {
      "metadata": {
        "trusted": true
      },
      "cell_type": "code",
      "source": "grid.best_params_",
      "execution_count": 272,
      "outputs": [
        {
          "output_type": "execute_result",
          "execution_count": 272,
          "data": {
            "text/plain": "{'max_depth': 9}"
          },
          "metadata": {}
        }
      ]
    },
    {
      "metadata": {
        "trusted": true
      },
      "cell_type": "code",
      "source": "prune_model=DecisionTreeRegressor(max_depth=9)",
      "execution_count": 282,
      "outputs": []
    },
    {
      "metadata": {
        "trusted": true
      },
      "cell_type": "code",
      "source": "prune_model.fit(X_test,Y_pred_test)",
      "execution_count": 283,
      "outputs": [
        {
          "output_type": "execute_result",
          "execution_count": 283,
          "data": {
            "text/plain": "DecisionTreeRegressor(criterion='mse', max_depth=9, max_features=None,\n           max_leaf_nodes=None, min_impurity_decrease=0.0,\n           min_impurity_split=None, min_samples_leaf=1,\n           min_samples_split=2, min_weight_fraction_leaf=0.0,\n           presort=False, random_state=None, splitter='best')"
          },
          "metadata": {}
        }
      ]
    },
    {
      "metadata": {
        "trusted": true
      },
      "cell_type": "code",
      "source": "Y_pred_test=prune_model.predict(X_test)",
      "execution_count": 284,
      "outputs": []
    },
    {
      "metadata": {
        "trusted": true
      },
      "cell_type": "code",
      "source": "for i in Y_pred_test:\n    print(i)",
      "execution_count": 285,
      "outputs": [
        {
          "output_type": "stream",
          "text": "5.501351492928278\n3.9201719457013273\n12.457382550335579\n3.9201719457013273\n5.501351492928278\n12.457382550335579\n22.178645161290316\n3.9201719457013273\n3.9201719457013273\n12.457382550335579\n18.15556756756757\n5.501351492928278\n2.2742278860569636\n2.2742278860569636\n5.501351492928278\n18.15556756756757\n30.885521472392615\n2.2742278860569636\n5.501351492928278\n5.501351492928278\n5.501351492928278\n2.2742278860569636\n5.501351492928278\n2.2742278860569636\n3.9201719457013273\n2.2742278860569636\n2.2742278860569636\n5.501351492928278\n5.501351492928278\n3.9201719457013273\n5.501351492928278\n5.501351492928278\n2.2742278860569636\n6.759999999999992\n5.501351492928278\n5.501351492928278\n5.501351492928278\n9.83498806682576\n6.759999999999992\n18.15556756756757\n5.501351492928278\n18.15556756756757\n11.404473684210528\n5.501351492928278\n5.501351492928278\n5.501351492928278\n5.501351492928278\n21.71144444444445\n12.457382550335579\n22.178645161290316\n5.501351492928278\n5.501351492928278\n11.404473684210528\n18.15556756756757\n9.83498806682576\n6.759999999999992\n5.501351492928278\n5.501351492928278\n3.9201719457013273\n2.2742278860569636\n2.2742278860569636\n5.501351492928278\n5.501351492928278\n5.501351492928278\n5.501351492928278\n5.501351492928278\n6.759999999999992\n9.83498806682576\n2.2742278860569636\n3.9201719457013273\n5.501351492928278\n3.9201719457013273\n5.501351492928278\n5.501351492928278\n2.2742278860569636\n2.2742278860569636\n3.9201719457013273\n6.759999999999992\n5.501351492928278\n5.501351492928278\n22.178645161290316\n30.885521472392615\n5.501351492928278\n9.83498806682576\n5.501351492928278\n30.885521472392615\n5.501351492928278\n2.2742278860569636\n3.9201719457013273\n5.501351492928278\n3.9201719457013273\n9.83498806682576\n3.9201719457013273\n3.9201719457013273\n2.2742278860569636\n5.501351492928278\n11.150207253886023\n5.501351492928278\n3.9201719457013273\n3.9201719457013273\n5.501351492928278\n3.9201719457013273\n30.885521472392615\n5.501351492928278\n3.9201719457013273\n3.9201719457013273\n12.457382550335579\n5.501351492928278\n5.501351492928278\n5.501351492928278\n18.15556756756757\n5.501351492928278\n30.885521472392615\n5.501351492928278\n3.9201719457013273\n9.83498806682576\n5.501351492928278\n18.15556756756757\n5.501351492928278\n5.501351492928278\n5.501351492928278\n5.501351492928278\n3.9201719457013273\n22.178645161290316\n3.9201719457013273\n21.71144444444445\n30.885521472392615\n30.885521472392615\n5.501351492928278\n5.501351492928278\n5.501351492928278\n5.501351492928278\n5.501351492928278\n2.2742278860569636\n3.9201719457013273\n5.501351492928278\n30.885521472392615\n3.9201719457013273\n9.83498806682576\n5.501351492928278\n5.501351492928278\n3.9201719457013273\n3.9201719457013273\n2.2742278860569636\n5.501351492928278\n2.2742278860569636\n12.457382550335579\n3.9201719457013273\n2.2742278860569636\n9.83498806682576\n3.9201719457013273\n2.2742278860569636\n5.501351492928278\n30.885521472392615\n5.501351492928278\n3.9201719457013273\n3.9201719457013273\n30.885521472392615\n18.15556756756757\n5.501351492928278\n5.501351492928278\n5.501351492928278\n6.759999999999992\n9.83498806682576\n9.83498806682576\n50.13219999999999\n2.2742278860569636\n29.993508771929836\n9.83498806682576\n30.885521472392615\n3.9201719457013273\n2.2742278860569636\n3.9201719457013273\n3.9201719457013273\n2.2742278860569636\n2.2742278860569636\n3.9201719457013273\n5.501351492928278\n5.501351492928278\n30.885521472392615\n3.9201719457013273\n5.501351492928278\n5.501351492928278\n18.15556756756757\n2.2742278860569636\n29.993508771929836\n2.2742278860569636\n2.2742278860569636\n2.2742278860569636\n18.15556756756757\n30.885521472392615\n2.2742278860569636\n5.501351492928278\n63.634893617021255\n3.9201719457013273\n5.501351492928278\n2.2742278860569636\n6.759999999999992\n3.9201719457013273\n3.9201719457013273\n5.501351492928278\n9.83498806682576\n75.3\n30.885521472392615\n30.885521472392615\n5.501351492928278\n30.885521472392615\n2.2742278860569636\n3.9201719457013273\n3.9201719457013273\n22.178645161290316\n2.2742278860569636\n9.83498806682576\n5.501351492928278\n3.9201719457013273\n5.501351492928278\n18.15556756756757\n5.501351492928278\n5.501351492928278\n9.83498806682576\n3.9201719457013273\n2.2742278860569636\n6.759999999999992\n5.501351492928278\n22.178645161290316\n3.9201719457013273\n3.9201719457013273\n3.9201719457013273\n5.501351492928278\n5.501351492928278\n12.457382550335579\n5.501351492928278\n5.501351492928278\n30.885521472392615\n9.83498806682576\n12.457382550335579\n6.759999999999992\n12.457382550335579\n3.9201719457013273\n2.2742278860569636\n5.501351492928278\n2.2742278860569636\n5.501351492928278\n2.2742278860569636\n5.501351492928278\n3.9201719457013273\n5.501351492928278\n2.2742278860569636\n3.9201719457013273\n9.83498806682576\n5.501351492928278\n6.759999999999992\n2.2742278860569636\n22.178645161290316\n5.501351492928278\n6.759999999999992\n6.759999999999992\n2.2742278860569636\n2.2742278860569636\n3.9201719457013273\n63.634893617021255\n3.9201719457013273\n2.2742278860569636\n3.9201719457013273\n3.9201719457013273\n6.759999999999992\n18.15556756756757\n2.2742278860569636\n11.404473684210528\n6.759999999999992\n6.759999999999992\n5.501351492928278\n2.2742278860569636\n5.501351492928278\n18.15556756756757\n9.83498806682576\n5.501351492928278\n11.150207253886023\n2.2742278860569636\n3.9201719457013273\n5.501351492928278\n22.178645161290316\n30.885521472392615\n6.759999999999992\n5.501351492928278\n9.83498806682576\n3.9201719457013273\n2.2742278860569636\n3.9201719457013273\n50.13219999999999\n5.501351492928278\n6.759999999999992\n3.9201719457013273\n50.13219999999999\n3.9201719457013273\n5.501351492928278\n5.501351492928278\n30.885521472392615\n30.885521472392615\n2.2742278860569636\n2.2742278860569636\n12.457382550335579\n3.9201719457013273\n6.759999999999992\n3.9201719457013273\n3.9201719457013273\n12.457382550335579\n3.9201719457013273\n9.83498806682576\n12.457382550335579\n11.150207253886023\n5.501351492928278\n11.404473684210528\n12.457382550335579\n5.501351492928278\n3.9201719457013273\n3.9201719457013273\n3.9201719457013273\n9.83498806682576\n3.9201719457013273\n5.501351492928278\n18.15556756756757\n11.150207253886023\n6.759999999999992\n2.2742278860569636\n9.83498806682576\n3.9201719457013273\n3.9201719457013273\n5.501351492928278\n3.9201719457013273\n2.2742278860569636\n2.2742278860569636\n12.457382550335579\n5.501351492928278\n5.501351492928278\n29.993508771929836\n2.2742278860569636\n2.2742278860569636\n2.2742278860569636\n18.15556756756757\n5.501351492928278\n3.9201719457013273\n3.9201719457013273\n5.501351492928278\n5.501351492928278\n5.501351492928278\n6.759999999999992\n6.759999999999992\n21.71144444444445\n12.457382550335579\n3.9201719457013273\n5.501351492928278\n3.9201719457013273\n2.2742278860569636\n5.501351492928278\n3.9201719457013273\n5.501351492928278\n9.83498806682576\n22.178645161290316\n30.885521472392615\n11.404473684210528\n3.9201719457013273\n5.501351492928278\n9.83498806682576\n11.150207253886023\n22.178645161290316\n11.150207253886023\n11.404473684210528\n3.9201719457013273\n22.178645161290316\n5.501351492928278\n30.885521472392615\n2.2742278860569636\n5.501351492928278\n3.9201719457013273\n5.501351492928278\n22.178645161290316\n30.885521472392615\n5.501351492928278\n3.9201719457013273\n11.404473684210528\n5.501351492928278\n6.759999999999992\n3.9201719457013273\n3.9201719457013273\n5.501351492928278\n9.83498806682576\n3.9201719457013273\n5.501351492928278\n3.9201719457013273\n5.501351492928278\n5.501351492928278\n2.2742278860569636\n5.501351492928278\n18.15556756756757\n2.2742278860569636\n2.2742278860569636\n3.9201719457013273\n18.15556756756757\n21.71144444444445\n3.9201719457013273\n5.501351492928278\n3.9201719457013273\n9.83498806682576\n6.759999999999992\n5.501351492928278\n5.501351492928278\n30.885521472392615\n3.9201719457013273\n11.404473684210528\n5.501351492928278\n12.457382550335579\n21.71144444444445\n9.83498806682576\n5.501351492928278\n29.993508771929836\n5.501351492928278\n5.501351492928278\n5.501351492928278\n3.9201719457013273\n3.9201719457013273\n5.501351492928278\n2.2742278860569636\n5.501351492928278\n11.150207253886023\n2.2742278860569636\n9.83498806682576\n30.885521472392615\n6.759999999999992\n5.501351492928278\n30.885521472392615\n3.9201719457013273\n5.501351492928278\n5.501351492928278\n5.501351492928278\n2.2742278860569636\n5.501351492928278\n5.501351492928278\n30.885521472392615\n11.150207253886023\n5.501351492928278\n2.2742278860569636\n11.404473684210528\n2.2742278860569636\n30.885521472392615\n5.501351492928278\n6.759999999999992\n9.83498806682576\n5.501351492928278\n5.501351492928278\n18.15556756756757\n12.457382550335579\n30.885521472392615\n6.759999999999992\n11.150207253886023\n6.759999999999992\n3.9201719457013273\n2.2742278860569636\n11.404473684210528\n5.501351492928278\n11.150207253886023\n5.501351492928278\n12.457382550335579\n9.83498806682576\n5.501351492928278\n2.2742278860569636\n5.501351492928278\n3.9201719457013273\n11.150207253886023\n2.2742278860569636\n9.83498806682576\n29.993508771929836\n30.885521472392615\n5.501351492928278\n11.404473684210528\n3.9201719457013273\n12.457382550335579\n3.9201719457013273\n3.9201719457013273\n2.2742278860569636\n22.178645161290316\n2.2742278860569636\n2.2742278860569636\n30.885521472392615\n5.501351492928278\n3.9201719457013273\n3.9201719457013273\n2.2742278860569636\n6.759999999999992\n5.501351492928278\n5.501351492928278\n2.2742278860569636\n12.457382550335579\n5.501351492928278\n18.15556756756757\n3.9201719457013273\n29.993508771929836\n2.2742278860569636\n5.501351492928278\n2.2742278860569636\n3.9201719457013273\n5.501351492928278\n6.759999999999992\n5.501351492928278\n6.759999999999992\n2.2742278860569636\n2.2742278860569636\n30.885521472392615\n2.2742278860569636\n5.501351492928278\n5.501351492928278\n3.9201719457013273\n12.457382550335579\n6.759999999999992\n5.501351492928278\n3.9201719457013273\n5.501351492928278\n2.2742278860569636\n5.501351492928278\n5.501351492928278\n2.2742278860569636\n3.9201719457013273\n3.9201719457013273\n5.501351492928278\n2.2742278860569636\n3.9201719457013273\n5.501351492928278\n6.759999999999992\n5.501351492928278\n11.150207253886023\n3.9201719457013273\n5.501351492928278\n3.9201719457013273\n3.9201719457013273\n3.9201719457013273\n9.83498806682576\n3.9201719457013273\n5.501351492928278\n6.759999999999992\n6.759999999999992\n3.9201719457013273\n3.9201719457013273\n5.501351492928278\n3.9201719457013273\n3.9201719457013273\n9.83498806682576\n5.501351492928278\n6.759999999999992\n22.178645161290316\n5.501351492928278\n11.150207253886023\n5.501351492928278\n5.501351492928278\n9.83498806682576\n5.501351492928278\n2.2742278860569636\n5.501351492928278\n2.2742278860569636\n3.9201719457013273\n6.759999999999992\n18.15556756756757\n5.501351492928278\n6.759999999999992\n2.2742278860569636\n5.501351492928278\n9.83498806682576\n2.2742278860569636\n30.885521472392615\n9.83498806682576\n5.501351492928278\n5.501351492928278\n3.9201719457013273\n2.2742278860569636\n30.885521472392615\n6.759999999999992\n5.501351492928278\n3.9201719457013273\n21.71144444444445\n6.759999999999992\n6.759999999999992\n5.501351492928278\n9.83498806682576\n9.83498806682576\n3.9201719457013273\n5.501351492928278\n3.9201719457013273\n5.501351492928278\n3.9201719457013273\n5.501351492928278\n9.83498806682576\n3.9201719457013273\n18.15556756756757\n3.9201719457013273\n3.9201719457013273\n3.9201719457013273\n3.9201719457013273\n11.404473684210528\n3.9201719457013273\n22.178645161290316\n9.83498806682576\n30.885521472392615\n22.178645161290316\n29.993508771929836\n18.15556756756757\n21.71144444444445\n9.83498806682576\n3.9201719457013273\n3.9201719457013273\n2.2742278860569636\n5.501351492928278\n5.501351492928278\n3.9201719457013273\n22.178645161290316\n30.885521472392615\n9.83498806682576\n5.501351492928278\n2.2742278860569636\n5.501351492928278\n30.885521472392615\n30.885521472392615\n30.885521472392615\n3.9201719457013273\n5.501351492928278\n5.501351492928278\n2.2742278860569636\n5.501351492928278\n2.2742278860569636\n3.9201719457013273\n30.885521472392615\n5.501351492928278\n2.2742278860569636\n22.178645161290316\n9.83498806682576\n18.15556756756757\n11.150207253886023\n9.83498806682576\n18.15556756756757\n5.501351492928278\n9.83498806682576\n5.501351492928278\n30.885521472392615\n3.9201719457013273\n18.15556756756757\n5.501351492928278\n11.404473684210528\n63.634893617021255\n12.457382550335579\n9.83498806682576\n5.501351492928278\n12.457382550335579\n3.9201719457013273\n5.501351492928278\n5.501351492928278\n3.9201719457013273\n2.2742278860569636\n30.885521472392615\n5.501351492928278\n3.9201719457013273\n2.2742278860569636\n2.2742278860569636\n5.501351492928278\n6.759999999999992\n18.15556756756757\n5.501351492928278\n6.759999999999992\n3.9201719457013273\n2.2742278860569636\n11.150207253886023\n3.9201719457013273\n9.83498806682576\n5.501351492928278\n3.9201719457013273\n5.501351492928278\n3.9201719457013273\n22.178645161290316\n22.178645161290316\n5.501351492928278\n3.9201719457013273\n2.2742278860569636\n22.178645161290316\n5.501351492928278\n5.501351492928278\n5.501351492928278\n3.9201719457013273\n30.885521472392615\n29.993508771929836\n2.2742278860569636\n3.9201719457013273\n2.2742278860569636\n3.9201719457013273\n5.501351492928278\n3.9201719457013273\n5.501351492928278\n3.9201719457013273\n2.2742278860569636\n5.501351492928278\n11.404473684210528\n2.2742278860569636\n21.71144444444445\n30.885521472392615\n9.83498806682576\n3.9201719457013273\n5.501351492928278\n3.9201719457013273\n2.2742278860569636\n5.501351492928278\n5.501351492928278\n5.501351492928278\n5.501351492928278\n30.885521472392615\n3.9201719457013273\n5.501351492928278\n3.9201719457013273\n5.501351492928278\n9.83498806682576\n3.9201719457013273\n5.501351492928278\n3.9201719457013273\n2.2742278860569636\n9.83498806682576\n5.501351492928278\n30.885521472392615\n5.501351492928278\n21.71144444444445\n6.759999999999992\n9.83498806682576\n3.9201719457013273\n2.2742278860569636\n3.9201719457013273\n5.501351492928278\n5.501351492928278\n9.83498806682576\n11.150207253886023\n5.501351492928278\n2.2742278860569636\n5.501351492928278\n5.501351492928278\n5.501351492928278\n30.885521472392615\n5.501351492928278\n2.2742278860569636\n5.501351492928278\n5.501351492928278\n3.9201719457013273\n5.501351492928278\n5.501351492928278\n2.2742278860569636\n9.83498806682576\n3.9201719457013273\n3.9201719457013273\n9.83498806682576\n11.150207253886023\n3.9201719457013273\n6.759999999999992\n3.9201719457013273\n3.9201719457013273\n9.83498806682576\n3.9201719457013273\n2.2742278860569636\n22.178645161290316\n9.83498806682576\n5.501351492928278\n5.501351492928278\n3.9201719457013273\n2.2742278860569636\n6.759999999999992\n3.9201719457013273\n3.9201719457013273\n3.9201719457013273\n5.501351492928278\n5.501351492928278\n12.457382550335579\n5.501351492928278\n6.759999999999992\n3.9201719457013273\n6.759999999999992\n22.178645161290316\n11.150207253886023\n6.759999999999992\n22.178645161290316\n9.83498806682576\n3.9201719457013273\n12.457382550335579\n3.9201719457013273\n2.2742278860569636\n5.501351492928278\n5.501351492928278\n5.501351492928278\n5.501351492928278\n5.501351492928278\n11.150207253886023\n5.501351492928278\n9.83498806682576\n2.2742278860569636\n9.83498806682576\n5.501351492928278\n5.501351492928278\n5.501351492928278\n3.9201719457013273\n5.501351492928278\n3.9201719457013273\n5.501351492928278\n11.150207253886023\n5.501351492928278\n2.2742278860569636\n63.634893617021255\n2.2742278860569636\n5.501351492928278\n18.15556756756757\n5.501351492928278\n18.15556756756757\n3.9201719457013273\n2.2742278860569636\n29.993508771929836\n21.71144444444445\n9.83498806682576\n3.9201719457013273\n5.501351492928278\n5.501351492928278\n3.9201719457013273\n3.9201719457013273\n3.9201719457013273\n3.9201719457013273\n75.3\n22.178645161290316\n5.501351492928278\n3.9201719457013273\n29.993508771929836\n5.501351492928278\n5.501351492928278\n3.9201719457013273\n6.759999999999992\n9.83498806682576\n30.885521472392615\n5.501351492928278\n3.9201719457013273\n6.759999999999992\n5.501351492928278\n11.404473684210528\n5.501351492928278\n21.71144444444445\n3.9201719457013273\n5.501351492928278\n5.501351492928278\n30.885521472392615\n2.2742278860569636\n3.9201719457013273\n5.501351492928278\n5.501351492928278\n5.501351492928278\n30.885521472392615\n5.501351492928278\n5.501351492928278\n2.2742278860569636\n5.501351492928278\n5.501351492928278\n6.759999999999992\n5.501351492928278\n5.501351492928278\n5.501351492928278\n3.9201719457013273\n2.2742278860569636\n3.9201719457013273\n21.71144444444445\n5.501351492928278\n5.501351492928278\n6.759999999999992\n5.501351492928278\n5.501351492928278\n22.178645161290316\n5.501351492928278\n5.501351492928278\n3.9201719457013273\n6.759999999999992\n6.759999999999992\n5.501351492928278\n3.9201719457013273\n3.9201719457013273\n2.2742278860569636\n9.83498806682576\n9.83498806682576\n3.9201719457013273\n12.457382550335579\n3.9201719457013273\n11.404473684210528\n5.501351492928278\n9.83498806682576\n9.83498806682576\n9.83498806682576\n29.993508771929836\n5.501351492928278\n11.150207253886023\n6.759999999999992\n11.150207253886023\n2.2742278860569636\n3.9201719457013273\n5.501351492928278\n3.9201719457013273\n5.501351492928278\n2.2742278860569636\n12.457382550335579\n9.83498806682576\n3.9201719457013273\n5.501351492928278\n5.501351492928278\n22.178645161290316\n11.404473684210528\n5.501351492928278\n3.9201719457013273\n2.2742278860569636\n5.501351492928278\n2.2742278860569636\n3.9201719457013273\n3.9201719457013273\n3.9201719457013273\n2.2742278860569636\n3.9201719457013273\n3.9201719457013273\n5.501351492928278\n2.2742278860569636\n5.501351492928278\n5.501351492928278\n5.501351492928278\n11.150207253886023\n11.150207253886023\n2.2742278860569636\n5.501351492928278\n3.9201719457013273\n3.9201719457013273\n5.501351492928278\n11.404473684210528\n3.9201719457013273\n11.150207253886023\n5.501351492928278\n6.759999999999992\n18.15556756756757\n5.501351492928278\n6.759999999999992\n5.501351492928278\n3.9201719457013273\n5.501351492928278\n63.634893617021255\n5.501351492928278\n18.15556756756757\n6.759999999999992\n50.13219999999999\n5.501351492928278\n11.150207253886023\n3.9201719457013273\n3.9201719457013273\n2.2742278860569636\n5.501351492928278\n9.83498806682576\n3.9201719457013273\n3.9201719457013273\n5.501351492928278\n29.993508771929836\n3.9201719457013273\n6.759999999999992\n2.2742278860569636\n12.457382550335579\n5.501351492928278\n9.83498806682576\n5.501351492928278\n5.501351492928278\n5.501351492928278\n5.501351492928278\n11.150207253886023\n5.501351492928278\n3.9201719457013273\n11.150207253886023\n5.501351492928278\n5.501351492928278\n5.501351492928278\n12.457382550335579\n63.634893617021255\n3.9201719457013273\n5.501351492928278\n12.457382550335579\n11.150207253886023\n5.501351492928278\n22.178645161290316\n5.501351492928278\n30.885521472392615\n3.9201719457013273\n11.150207253886023\n5.501351492928278\n5.501351492928278\n11.150207253886023\n5.501351492928278\n5.501351492928278\n5.501351492928278\n12.457382550335579\n5.501351492928278\n2.2742278860569636\n5.501351492928278\n5.501351492928278\n30.885521472392615\n3.9201719457013273\n5.501351492928278\n6.759999999999992\n30.885521472392615\n5.501351492928278\n3.9201719457013273\n30.885521472392615\n3.9201719457013273\n5.501351492928278\n5.501351492928278\n3.9201719457013273\n6.759999999999992\n3.9201719457013273\n18.15556756756757\n9.83498806682576\n3.9201719457013273\n3.9201719457013273\n3.9201719457013273\n2.2742278860569636\n2.2742278860569636\n5.501351492928278\n3.9201719457013273\n9.83498806682576\n9.83498806682576\n3.9201719457013273\n5.501351492928278\n9.83498806682576\n2.2742278860569636\n3.9201719457013273\n5.501351492928278\n2.2742278860569636\n3.9201719457013273\n3.9201719457013273\n5.501351492928278\n5.501351492928278\n12.457382550335579\n5.501351492928278\n3.9201719457013273\n5.501351492928278\n5.501351492928278\n29.993508771929836\n3.9201719457013273\n5.501351492928278\n3.9201719457013273\n5.501351492928278\n11.404473684210528\n2.2742278860569636\n2.2742278860569636\n9.83498806682576\n11.150207253886023\n2.2742278860569636\n18.15556756756757\n9.83498806682576\n9.83498806682576\n2.2742278860569636\n18.15556756756757\n5.501351492928278\n12.457382550335579\n50.13219999999999\n5.501351492928278\n5.501351492928278\n5.501351492928278\n5.501351492928278\n5.501351492928278\n2.2742278860569636\n5.501351492928278\n5.501351492928278\n5.501351492928278\n5.501351492928278\n11.404473684210528\n5.501351492928278\n9.83498806682576\n18.15556756756757\n5.501351492928278\n3.9201719457013273\n2.2742278860569636\n5.501351492928278\n63.634893617021255\n3.9201719457013273\n5.501351492928278\n6.759999999999992\n5.501351492928278\n6.759999999999992\n30.885521472392615\n3.9201719457013273\n2.2742278860569636\n2.2742278860569636\n3.9201719457013273\n12.457382550335579\n5.501351492928278\n5.501351492928278\n30.885521472392615\n9.83498806682576\n5.501351492928278\n3.9201719457013273\n11.404473684210528\n3.9201719457013273\n22.178645161290316\n12.457382550335579\n11.150207253886023\n63.634893617021255\n2.2742278860569636\n5.501351492928278\n22.178645161290316\n2.2742278860569636\n9.83498806682576\n3.9201719457013273\n11.150207253886023\n2.2742278860569636\n30.885521472392615\n2.2742278860569636\n5.501351492928278\n5.501351492928278\n5.501351492928278\n5.501351492928278\n30.885521472392615\n30.885521472392615\n2.2742278860569636\n3.9201719457013273\n2.2742278860569636\n2.2742278860569636\n2.2742278860569636\n3.9201719457013273\n5.501351492928278\n5.501351492928278\n3.9201719457013273\n12.457382550335579\n5.501351492928278\n3.9201719457013273\n9.83498806682576\n2.2742278860569636\n2.2742278860569636\n6.759999999999992\n12.457382550335579\n18.15556756756757\n5.501351492928278\n21.71144444444445\n9.83498806682576\n30.885521472392615\n29.993508771929836\n30.885521472392615\n9.83498806682576\n3.9201719457013273\n11.404473684210528\n22.178645161290316\n3.9201719457013273\n5.501351492928278\n18.15556756756757\n2.2742278860569636\n11.150207253886023\n5.501351492928278\n11.404473684210528\n3.9201719457013273\n30.885521472392615\n3.9201719457013273\n21.71144444444445\n9.83498806682576\n2.2742278860569636\n11.150207253886023\n30.885521472392615\n5.501351492928278\n3.9201719457013273\n3.9201719457013273\n11.150207253886023\n3.9201719457013273\n2.2742278860569636\n2.2742278860569636\n9.83498806682576\n5.501351492928278\n2.2742278860569636\n5.501351492928278\n3.9201719457013273\n3.9201719457013273\n30.885521472392615\n3.9201719457013273\n3.9201719457013273\n2.2742278860569636\n5.501351492928278\n2.2742278860569636\n3.9201719457013273\n3.9201719457013273\n29.993508771929836\n5.501351492928278\n5.501351492928278\n5.501351492928278\n5.501351492928278\n5.501351492928278\n11.150207253886023\n30.885521472392615\n6.759999999999992\n5.501351492928278\n5.501351492928278\n22.178645161290316\n5.501351492928278\n2.2742278860569636\n9.83498806682576\n3.9201719457013273\n5.501351492928278\n30.885521472392615\n50.13219999999999\n9.83498806682576\n5.501351492928278\n2.2742278860569636\n5.501351492928278\n9.83498806682576\n5.501351492928278\n6.759999999999992\n5.501351492928278\n2.2742278860569636\n5.501351492928278\n2.2742278860569636\n5.501351492928278\n3.9201719457013273\n5.501351492928278\n9.83498806682576\n9.83498806682576\n11.404473684210528\n3.9201719457013273\n5.501351492928278\n5.501351492928278\n3.9201719457013273\n11.404473684210528\n5.501351492928278\n5.501351492928278\n18.15556756756757\n5.501351492928278\n5.501351492928278\n2.2742278860569636\n5.501351492928278\n5.501351492928278\n5.501351492928278\n3.9201719457013273\n5.501351492928278\n3.9201719457013273\n3.9201719457013273\n22.178645161290316\n",
          "name": "stdout"
        }
      ]
    }
  ],
  "metadata": {
    "kernelspec": {
      "name": "python36",
      "display_name": "Python 3.6",
      "language": "python"
    },
    "language_info": {
      "mimetype": "text/x-python",
      "nbconvert_exporter": "python",
      "name": "python",
      "pygments_lexer": "ipython3",
      "version": "3.6.6",
      "file_extension": ".py",
      "codemirror_mode": {
        "version": 3,
        "name": "ipython"
      }
    }
  },
  "nbformat": 4,
  "nbformat_minor": 2
}